{
 "cells": [
  {
   "cell_type": "markdown",
   "id": "8938a9d6-cfee-429a-8752-8273243a93ee",
   "metadata": {},
   "source": [
    "# Irish Sign Language Detection Using Transfer Learning\n",
    "Anna Łukawska, Benny Fülöp, and Danée Knevel"
   ]
  },
  {
   "cell_type": "markdown",
   "id": "13392073-30e4-423e-99d7-67760f3197c4",
   "metadata": {},
   "source": [
    "This python notebook is created in order to assess the use of transfer learning for recoginising sign language characters using the Irish Sign Language dataset. \n",
    "\n",
    "The data used is downloaded from the following github repo and unzipped https://github.com/marlondcu/ISL/tree/master/Frames. \n",
    "The modelling was greatly informed by https://pytorch.org/tutorials/beginner/transfer_learning_tutorial.html\n"
   ]
  },
  {
   "cell_type": "markdown",
   "id": "1175b828-4833-429f-9faf-7727fec8a813",
   "metadata": {},
   "source": [
    "#### Loading Required Packages"
   ]
  },
  {
   "cell_type": "code",
   "execution_count": 1,
   "id": "602247a1-9a15-457b-affe-0f411802ce13",
   "metadata": {
    "tags": []
   },
   "outputs": [],
   "source": [
    "import os\n",
    "import re\n",
    "import cv2\n",
    "import pandas as pd\n",
    "import numpy as np\n",
    "import shutil\n",
    "import random\n",
    "import numpy as np\n",
    "import matplotlib.pyplot as plt\n",
    "import seaborn as sns\n",
    "from tqdm import tqdm\n",
    "from tabulate import tabulate\n",
    "from sklearn.metrics import confusion_matrix, ConfusionMatrixDisplay\n",
    "from sklearn.metrics import classification_report\n",
    "from sklearn import metrics\n",
    "import uuid\n",
    "import time\n",
    "import torch\n",
    "import torch.nn as nn\n",
    "import torch.optim as optim\n",
    "import torchvision\n",
    "import torch.nn.functional as F\n",
    "from torchvision import datasets, models, transforms\n",
    "from torchvision.transforms import v2\n",
    "from torch.utils.data import DataLoader\n",
    "from torch.optim import lr_scheduler\n",
    "from torchinfo import summary\n",
    "from tempfile import TemporaryDirectory"
   ]
  },
  {
   "cell_type": "code",
   "execution_count": null,
   "id": "82abd0ec-1dcf-46d0-b4d5-61bf0d09b7d5",
   "metadata": {},
   "outputs": [],
   "source": [
    "#https://github.com/marlondcu/ISL/tree/d1d50bb65540b904e3e0a6ffe0997872c4e9e645/Frames\n",
    "#https://github.com/marlondcu/ISL/tree/d1d50bb65540b904e3e0a6ffe0997872c4e9e645/Videos"
   ]
  },
  {
   "cell_type": "code",
   "execution_count": null,
   "id": "11d8a54a-73c4-427a-a3e6-cce0b0b42d04",
   "metadata": {},
   "outputs": [],
   "source": [
    "#git.Repo.clone_from(repo_url, destination_path)"
   ]
  },
  {
   "cell_type": "markdown",
   "id": "578d4c90-63ab-43e8-a733-a4c702f2fabe",
   "metadata": {
    "jp-MarkdownHeadingCollapsed": true,
    "tags": []
   },
   "source": [
    "#### Train Test Split"
   ]
  },
  {
   "cell_type": "code",
   "execution_count": 3,
   "id": "12b3c216-eaa1-45de-bd6f-474afdb28485",
   "metadata": {
    "tags": []
   },
   "outputs": [
    {
     "name": "stdout",
     "output_type": "stream",
     "text": [
      "Person Person1 - Train set: 7090, Test set: 1774\n",
      "Person Person2 - Train set: 8006, Test set: 1965\n",
      "Person Person3 - Train set: 7495, Test set: 1825\n",
      "Person Person4 - Train set: 7681, Test set: 1870\n",
      "Person Person5 - Train set: 9249, Test set: 2229\n",
      "Person Person6 - Train set: 7141, Test set: 1789\n"
     ]
    }
   ],
   "source": [
    "# Train and Test Split \n",
    "# Set the path to your Frames folder\n",
    "frames_path = \"ISL/Frames\"\n",
    "\n",
    "# Set the output path for train and test sets\n",
    "train_path = os.path.join(\"ISL/SplitDataset\", \"train\")\n",
    "test_path = os.path.join(\"ISL/SplitDataset\", \"test\")\n",
    "os.makedirs(train_path, exist_ok=True)\n",
    "os.makedirs(test_path, exist_ok=True)\n",
    "\n",
    "# Set the ratio for the train set for 80% it is a quicker than cross validation\n",
    "train_ratio = 0.8\n",
    "\n",
    "# Iterate through each person folder\n",
    "for person_folder in os.listdir(frames_path):\n",
    "    person_path = os.path.join(frames_path, person_folder)\n",
    "\n",
    "    # Skip if it's not a directory\n",
    "    if not os.path.isdir(person_path):\n",
    "        continue\n",
    "\n",
    "    # Create train and test folders for the person\n",
    "    train_person_path = os.path.join(train_path, person_folder)\n",
    "    test_person_path = os.path.join(test_path, person_folder)\n",
    "    os.makedirs(train_person_path, exist_ok=True)\n",
    "    os.makedirs(test_person_path, exist_ok=True)\n",
    "\n",
    "    # Get the list of image files for the person\n",
    "    image_files = [f for f in os.listdir(person_path) if f.endswith(\".jpg\")]\n",
    "\n",
    "    # Randomly assign each image to the train or test set\n",
    "    for image_file in image_files:\n",
    "        if random.uniform(0, 1) < train_ratio:\n",
    "            src_path = os.path.join(person_path, image_file)\n",
    "            dst_path = os.path.join(train_person_path, image_file)\n",
    "            shutil.copy(src_path, dst_path)\n",
    "        else:\n",
    "            src_path = os.path.join(person_path, image_file)\n",
    "            dst_path = os.path.join(test_person_path, image_file)\n",
    "            shutil.copy(src_path, dst_path)\n",
    "    # tabulate the splits we ended up with\n",
    "    print(f\"Person {person_folder} - Train set: {len(os.listdir(train_person_path))}, Test set: {len(os.listdir(test_person_path))}\")\n",
    "\n",
    "    # We wrote this just in case to preserve the person information"
   ]
  },
  {
   "cell_type": "markdown",
   "id": "10dd3a61-77a4-4f78-bd30-9d7aa1738270",
   "metadata": {
    "jp-MarkdownHeadingCollapsed": true,
    "tags": []
   },
   "source": [
    "#### Data Wrangling\n",
    "This portion reformats the file paths in order to injest the data to pytorch"
   ]
  },
  {
   "cell_type": "code",
   "execution_count": 14,
   "id": "b668ea3d-7322-4088-af64-e355b7ff1778",
   "metadata": {
    "tags": []
   },
   "outputs": [],
   "source": [
    "# helper function to pop subfolders\n",
    "def pop_folder(folder_path): \n",
    "    contents = os.listdir(folder_path)\n",
    "    \n",
    "    for item in contents:\n",
    "        item_path = os.path.join(folder_path, item)\n",
    "        new_path = os.path.join(os.path.dirname(folder_path), item)\n",
    "        \n",
    "        shutil.move(item_path, new_path)\n",
    "    shutil.rmtree(folder_path)\n",
    "    \n",
    "# regex to extract labels from file names    \n",
    "pattern = r'-(\\w)-'\n",
    "\n",
    "# Extract the singular character between dashes for each file name so we have labels for the folders and a way to sort them\n",
    "abcs = set([re.search(pattern, file_name).group(1) for file_name in os.listdir(os.path.join(train_path))])\n",
    "\n",
    "# could create loop for train and test save some lines of code here\n",
    "    \n",
    "# Unwrapping the Person subfolders to get all the images in the train and test folders    \n",
    "for subfolder in os.listdir(os.path.join(train_path)):\n",
    "    pop_folder(os.path.join(os.path.join(train_path), subfolder))\n",
    "    \n",
    "for subfolder in os.listdir(os.path.join(test_path)):\n",
    "    pop_folder(os.path.join(os.path.join(test_path), subfolder))\n",
    "\n",
    "\n",
    "# Creat Subfolders in train and test with the label names\n",
    "for value in abcs:\n",
    "    folder_path = os.path.join(train_path, value)\n",
    "    os.makedirs(folder_path, exist_ok=True)\n",
    "    \n",
    "for value in abcs:\n",
    "    folder_path = os.path.join(test_path, value)\n",
    "    os.makedirs(folder_path, exist_ok=True)\n",
    "    \n",
    "\n",
    "file_names = os.listdir(train_path)\n",
    "\n",
    "# Move files to their corresponding folders\n",
    "for file_name in file_names:\n",
    "    match = re.search(pattern, file_name)\n",
    "    if match:\n",
    "        value = match.group(1)\n",
    "        source_path = os.path.join(train_path, file_name)\n",
    "        destination_path = os.path.join(train_path, value, file_name)\n",
    "        \n",
    "        # Ensure the destination folder exists before moving\n",
    "        os.makedirs(os.path.dirname(destination_path), exist_ok=True)\n",
    "        \n",
    "        shutil.move(source_path, destination_path)\n",
    "        \n",
    "file_names = os.listdir(test_path)\n",
    "\n",
    "for file_name in file_names:\n",
    "    match = re.search(pattern, file_name)\n",
    "    if match:\n",
    "        value = match.group(1)\n",
    "        source_path = os.path.join(test_path, file_name)\n",
    "        destination_path = os.path.join(test_path, value, file_name)\n",
    "\n",
    "        # Ensure the destination folder exists before moving\n",
    "        os.makedirs(os.path.dirname(destination_path), exist_ok=True)\n",
    "\n",
    "        shutil.move(source_path, destination_path)"
   ]
  },
  {
   "cell_type": "code",
   "execution_count": 3,
   "id": "ebfde756-4418-411a-a26b-f7c0f1e0e994",
   "metadata": {
    "tags": []
   },
   "outputs": [],
   "source": [
    "# cell to run in case data wrangling had been done, just re asserts the \n",
    "train_path = os.path.join(\"ISL\", \"SplitDataset\", \"train\")\n",
    "test_path = os.path.join( \"ISL\", \"SplitDataset\", \"test\")"
   ]
  },
  {
   "cell_type": "markdown",
   "id": "d89fcb29-941f-4fde-b420-0c6be6355268",
   "metadata": {
    "tags": []
   },
   "source": [
    "#### Setting up Data Loading and Transforms"
   ]
  },
  {
   "cell_type": "code",
   "execution_count": 53,
   "id": "ad6296f3-c0cd-4fa7-972a-e57d2bab8b1a",
   "metadata": {
    "tags": []
   },
   "outputs": [],
   "source": [
    "data_transforms = {\n",
    "    'train': v2.Compose([\n",
    "        v2.RandomResizedCrop(224), # To deal with missing parts of the hand in the detection area\n",
    "        v2.RandomHorizontalFlip(), # To deal with left and right hands, dataset only contains right hands\n",
    "        v2.GaussianBlur(kernel_size=(5, 9), sigma=(0.1, 5.)), # To adress image quality issues\n",
    "        v2.RandomInvert(), # The images are black and white, this should allow the network to deal with white backgrounds, maybe differentiate the hands\n",
    "        v2.RandomPerspective(distortion_scale=0.4, p=0.5), # To adress different angles of the images\n",
    "        transforms.ToTensor(), # convert to tensor object\n",
    "        v2.Normalize([0.485, 0.456, 0.406], [0.229, 0.224, 0.225]) # utilising the imagenet norms as we will use imagenet weights\n",
    "    ]),\n",
    "    'test': v2.Compose([\n",
    "        v2.Resize(256),\n",
    "        v2.CenterCrop(224),\n",
    "        v2.RandomHorizontalFlip(p=0.5), # we utilise flipping in testing as well as it is reasonable for the sign to be left or right handed in real life as well\n",
    "        transforms.ToTensor(),\n",
    "        v2.Normalize([0.485, 0.456, 0.406], [0.229, 0.224, 0.225])\n",
    "    ]),\n",
    "}\n",
    "\n",
    "data_dir =  os.path.join(\"ISL\", \"SplitDataset\") # directory of the data\n",
    "image_datasets = {x: datasets.ImageFolder(os.path.join(data_dir, x),\n",
    "                                          data_transforms[x])\n",
    "                  for x in ['train', 'test']} # dict comprehension to set train and \n",
    "\n",
    "dataloaders = {x: torch.utils.data.DataLoader(image_datasets[x], batch_size=30,\n",
    "                                             shuffle=True, num_workers=24)\n",
    "              for x in ['train', 'test']} # creating the dataloaders and specifying batch size and number of cores ##### adjust if needed\n",
    "\n",
    "dataset_sizes = {x: len(image_datasets[x]) for x in ['train', 'test']} # get dataset sizes\n",
    "class_names = image_datasets['train'].classes # get class labels\n",
    "\n",
    "device = torch.device(\"cuda:0\" if torch.cuda.is_available() else \"cpu\") # we trained on gpu"
   ]
  },
  {
   "cell_type": "code",
   "execution_count": 56,
   "id": "2b500e27-8e8d-4476-8e43-45fb66e968d3",
   "metadata": {
    "tags": []
   },
   "outputs": [
    {
     "data": {
      "image/png": "[encoded data removed]",
      "text/plain": [
       "<Figure size 640x480 with 1 Axes>"
      ]
     },
     "metadata": {},
     "output_type": "display_data"
    }
   ],
   "source": [
    "# Tabulating a batch of the data to see what we will train on\n",
    "\n",
    "def imshow(inp, title=None):\n",
    "    \"\"\"Display image for Tensor.\"\"\"\n",
    "    #plt.figure(figsize=(20,10))\n",
    "    inp = inp.numpy().transpose((1, 2, 0))\n",
    "    mean = np.array([0.485, 0.456, 0.406])\n",
    "    std = np.array([0.229, 0.224, 0.225])\n",
    "    inp = std * inp + mean\n",
    "    inp = np.clip(inp, 0, 1)\n",
    "    plt.imshow(inp)\n",
    "    if title is not None:\n",
    "        plt.title(title)\n",
    "    plt.pause(0.001)  # pause a bit so that plots are updated\n",
    "\n",
    "\n",
    "# Get a batch of training data \n",
    "inputs, classes = next(iter(dataloaders['train'])) \n",
    "\n",
    "# Make a grid from batch\n",
    "out = torchvision.utils.make_grid(inputs) \n",
    "\n",
    "imshow(out, title=[class_names[x] for x in classes])"
   ]
  },
  {
   "cell_type": "markdown",
   "id": "9eab533e-5104-4359-847a-ef789459d892",
   "metadata": {
    "jp-MarkdownHeadingCollapsed": true,
    "tags": []
   },
   "source": [
    "#### Training"
   ]
  },
  {
   "cell_type": "code",
   "execution_count": 5,
   "id": "f38e3026-2ef1-470e-8003-139c7b8de2b6",
   "metadata": {
    "tags": []
   },
   "outputs": [],
   "source": [
    "# defining train function\n",
    "# this is from the pytorch tutorial\n",
    "\n",
    "def train_model(model, criterion, optimizer, scheduler, num_epochs=25):\n",
    "    since = time.time()\n",
    "\n",
    "    # Create a temporary directory to save training checkpoints\n",
    "    with TemporaryDirectory() as tempdir:\n",
    "        best_model_params_path = os.path.join(tempdir, 'best_model_params.pt')\n",
    "\n",
    "        torch.save(model.state_dict(), best_model_params_path)\n",
    "        best_acc = 0.0\n",
    "\n",
    "        for epoch in range(num_epochs):\n",
    "            print(f'Epoch {epoch}/{num_epochs - 1}')\n",
    "            print('-' * 10)\n",
    "\n",
    "            # Each epoch has a training and validation phase\n",
    "            for phase in ['train', 'test']:\n",
    "                if phase == 'train':\n",
    "                    model.train()  # Set model to training mode\n",
    "                else:\n",
    "                    model.eval()   # Set model to evaluate mode\n",
    "\n",
    "                running_loss = 0.0\n",
    "                running_corrects = 0\n",
    "\n",
    "                # Iterate over data.\n",
    "                for inputs, labels in dataloaders[phase]:\n",
    "                    inputs = inputs.to(device)\n",
    "                    labels = labels.to(device)\n",
    "                    #print(labels)\n",
    "\n",
    "                    # zero the parameter gradients\n",
    "                    optimizer.zero_grad()\n",
    "\n",
    "                    # forward\n",
    "                    # track history if only in train\n",
    "                    with torch.set_grad_enabled(phase == 'train'):\n",
    "                        outputs = model(inputs)\n",
    "                        _, preds = torch.max(outputs, 1)\n",
    "                        loss = criterion(outputs, labels)\n",
    "\n",
    "                        # backward + optimize only if in training phase\n",
    "                        if phase == 'train':\n",
    "                            loss.backward()\n",
    "                            optimizer.step()\n",
    "\n",
    "                    # statistics\n",
    "                    running_loss += loss.item() * inputs.size(0)\n",
    "                    running_corrects += torch.sum(preds == labels.data)\n",
    "                if phase == 'train':\n",
    "                    scheduler.step()\n",
    "\n",
    "                epoch_loss = running_loss / dataset_sizes[phase]\n",
    "                epoch_acc = running_corrects.double() / dataset_sizes[phase]\n",
    "\n",
    "                print(f'{phase} Loss: {epoch_loss:.4f} Acc: {epoch_acc:.4f}')\n",
    "\n",
    "                # deep copy the model\n",
    "                if phase == 'test' and epoch_acc > best_acc:\n",
    "                    best_acc = epoch_acc\n",
    "                    torch.save(model.state_dict(), best_model_params_path)\n",
    "\n",
    "            print()\n",
    "\n",
    "        time_elapsed = time.time() - since\n",
    "        print(f'Training complete in {time_elapsed // 60:.0f}m {time_elapsed % 60:.0f}s')\n",
    "        print(f'Best test Acc: {best_acc:4f}')\n",
    "\n",
    "        # load best model weights\n",
    "        model.load_state_dict(torch.load(best_model_params_path))\n",
    "    return model"
   ]
  },
  {
   "cell_type": "markdown",
   "id": "82d32f28-93ad-429d-91bb-82c69af6998c",
   "metadata": {
    "jp-MarkdownHeadingCollapsed": true,
    "tags": []
   },
   "source": [
    "##### ResNet18 Architecture"
   ]
  },
  {
   "cell_type": "code",
   "execution_count": 8,
   "id": "5ac7efbf-a318-4476-bd7c-09ae17a7193f",
   "metadata": {
    "tags": []
   },
   "outputs": [],
   "source": [
    "model_res_18 = models.resnet18(weights='IMAGENET1K_V1') # pulling the resnet18 architecture with the weights from imagenet\n",
    "num_ftrs = model_res_18.fc.in_features # getting the input features dimensions\n",
    "\n",
    "model_res_18.fc = nn.Linear(num_ftrs,len(class_names)) #specifying the classification layer\n",
    "\n",
    "model_ft = model_res_18.to(device) # sending the model to the gpu\n",
    "\n",
    "criterion = nn.CrossEntropyLoss() # training criterion is cross entropy loss\n",
    "\n",
    "# Observe that all parameters are being optimized \n",
    "optimizer_ft = optim.SGD(model_res_18.parameters(), lr=0.001, momentum=0.9) \n",
    "\n",
    "# Decay LR by a factor of 0.1 every 7 epochs to adjust learning rate\n",
    "exp_lr_scheduler = lr_scheduler.StepLR(optimizer_ft, step_size=3, gamma=0.1,verbose = True))"
   ]
  },
  {
   "cell_type": "code",
   "execution_count": 9,
   "id": "62ed9f8a-f4aa-4fba-b00a-29361b76b0d0",
   "metadata": {
    "tags": []
   },
   "outputs": [
    {
     "name": "stdout",
     "output_type": "stream",
     "text": [
      "Epoch 0/9\n",
      "----------\n",
      "train Loss: 1.7720 Acc: 0.4592\n",
      "test Loss: 0.3620 Acc: 0.8855\n",
      "\n",
      "Epoch 1/9\n",
      "----------\n",
      "train Loss: 1.2564 Acc: 0.6153\n",
      "test Loss: 0.1804 Acc: 0.9364\n",
      "\n",
      "Epoch 2/9\n",
      "----------\n",
      "train Loss: 1.1345 Acc: 0.6526\n",
      "test Loss: 0.1602 Acc: 0.9466\n",
      "\n",
      "Epoch 3/9\n",
      "----------\n",
      "train Loss: 1.0538 Acc: 0.6771\n",
      "test Loss: 0.0867 Acc: 0.9700\n",
      "\n",
      "Epoch 4/9\n",
      "----------\n",
      "train Loss: 1.0093 Acc: 0.6901\n",
      "test Loss: 0.1193 Acc: 0.9579\n",
      "\n",
      "Epoch 5/9\n",
      "----------\n",
      "train Loss: 0.9787 Acc: 0.7006\n",
      "test Loss: 0.0805 Acc: 0.9743\n",
      "\n",
      "Epoch 6/9\n",
      "----------\n",
      "train Loss: 0.9616 Acc: 0.7042\n",
      "test Loss: 0.0597 Acc: 0.9804\n",
      "\n",
      "Epoch 7/9\n",
      "----------\n",
      "train Loss: 0.8875 Acc: 0.7307\n",
      "test Loss: 0.0457 Acc: 0.9839\n",
      "\n",
      "Epoch 8/9\n",
      "----------\n",
      "train Loss: 0.8696 Acc: 0.7348\n",
      "test Loss: 0.0369 Acc: 0.9884\n",
      "\n",
      "Epoch 9/9\n",
      "----------\n",
      "train Loss: 0.8524 Acc: 0.7396\n",
      "test Loss: 0.0315 Acc: 0.9908\n",
      "\n",
      "Training complete in 21m 50s\n",
      "Best test Acc: 0.990831\n"
     ]
    }
   ],
   "source": [
    "model_res_18 = train_model(model_res_18, criterion, optimizer_ft, exp_lr_scheduler,\n",
    "                       num_epochs=10)"
   ]
  },
  {
   "cell_type": "code",
   "execution_count": 12,
   "id": "9fa7e045-e5bd-4136-b4be-bfc2877e967f",
   "metadata": {
    "tags": []
   },
   "outputs": [],
   "source": [
    "torch.save(model_res_18.state_dict(), os.path.join( , resnet18_10_aug.pt\") #saving the model "
   ]
  },
  {
   "cell_type": "markdown",
   "id": "95ad3710-e848-4c23-a4c9-c52cc9f69321",
   "metadata": {
    "tags": []
   },
   "source": [
    "#### ResNet18 Architecture Re-load model"
   ]
  },
  {
   "cell_type": "code",
   "execution_count": 3,
   "id": "309fda12-ea0c-45ba-ae5d-b39459ac9d87",
   "metadata": {
    "tags": []
   },
   "outputs": [
    {
     "data": {
      "text/plain": [
       "<All keys matched successfully>"
      ]
     },
     "execution_count": 3,
     "metadata": {},
     "output_type": "execute_result"
    }
   ],
   "source": [
    "# Instantiate the model\n",
    "model_res_18 = models.resnet18(weights='IMAGENET1K_V1')\n",
    "num_ftrs = model_res_18.fc.in_features\n",
    "# Modify the final fully connected layer to match the number of classes in the loaded state_dict\n",
    "num_classes = 26\n",
    "model_res_18.fc = torch.nn.Linear(in_features=num_ftrs, out_features=num_classes)\n",
    "\n",
    "# Load the state dictionary from the file\n",
    "state_dict = torch.load(r\"C:\\Users\\azabe\\Desktop\\Masters\\AppliedAI\\resnet18_10_aug.pt\", map_location='cpu')\n",
    "\n",
    "# Load the state dictionary into the model\n",
    "model_res_18.load_state_dict(state_dict)"
   ]
  },
  {
   "cell_type": "markdown",
   "id": "5b118859-64bf-4a8a-9f29-70e1bb09205b",
   "metadata": {
    "jp-MarkdownHeadingCollapsed": true,
    "tags": []
   },
   "source": [
    "##### ResNet 50 Architecture"
   ]
  },
  {
   "cell_type": "code",
   "execution_count": 6,
   "id": "e0d670ca-3c89-4f74-95a2-b86ecb51a56f",
   "metadata": {
    "tags": []
   },
   "outputs": [
    {
     "name": "stdout",
     "output_type": "stream",
     "text": [
      "Adjusting learning rate of group 0 to 1.0000e-03.\n"
     ]
    }
   ],
   "source": [
    "model_res_50 = models.resnet50(weights='IMAGENET1K_V1')\n",
    "num_ftrs = model_res_50.fc.in_features\n",
    "\n",
    "model_res_50.fc = nn.Linear(num_ftrs,len(class_names))\n",
    "\n",
    "model_res_50 = model_res_50.to(device)\n",
    "\n",
    "criterion = nn.CrossEntropyLoss()\n",
    "\n",
    "# Observe that all parameters are being optimized~\n",
    "optimizer_ft = optim.SGD(model_res_50.parameters(), lr=0.001, momentum=0.9)\n",
    "\n",
    "# Decay LR by a factor of 0.1 every 7 epochs\n",
    "exp_lr_scheduler = lr_scheduler.StepLR(optimizer_ft, step_size=3, gamma=0.1, verbose = True)"
   ]
  },
  {
   "cell_type": "code",
   "execution_count": 7,
   "id": "03d22a35-a006-42f1-b366-249ebacc4582",
   "metadata": {
    "tags": []
   },
   "outputs": [
    {
     "name": "stdout",
     "output_type": "stream",
     "text": [
      "Epoch 0/9\n",
      "----------\n",
      "Adjusting learning rate of group 0 to 1.0000e-03.\n",
      "train Loss: 1.6998 Acc: 0.4915\n",
      "test Loss: 0.2352 Acc: 0.9241\n",
      "\n",
      "Epoch 1/9\n",
      "----------\n",
      "Adjusting learning rate of group 0 to 1.0000e-03.\n",
      "train Loss: 1.1395 Acc: 0.6530\n",
      "test Loss: 0.1282 Acc: 0.9609\n",
      "\n",
      "Epoch 2/9\n",
      "----------\n",
      "Adjusting learning rate of group 0 to 1.0000e-04.\n",
      "train Loss: 1.0313 Acc: 0.6848\n",
      "test Loss: 0.0930 Acc: 0.9687\n",
      "\n",
      "Epoch 3/9\n",
      "----------\n",
      "Adjusting learning rate of group 0 to 1.0000e-04.\n",
      "train Loss: 0.9205 Acc: 0.7204\n",
      "test Loss: 0.0523 Acc: 0.9838\n",
      "\n",
      "Epoch 4/9\n",
      "----------\n",
      "Adjusting learning rate of group 0 to 1.0000e-04.\n",
      "train Loss: 0.8864 Acc: 0.7289\n",
      "test Loss: 0.0516 Acc: 0.9831\n",
      "\n",
      "Epoch 5/9\n",
      "----------\n",
      "Adjusting learning rate of group 0 to 1.0000e-05.\n",
      "train Loss: 0.8898 Acc: 0.7296\n",
      "test Loss: 0.0511 Acc: 0.9836\n",
      "\n",
      "Epoch 6/9\n",
      "----------\n",
      "Adjusting learning rate of group 0 to 1.0000e-05.\n",
      "train Loss: 0.8699 Acc: 0.7352\n",
      "test Loss: 0.0445 Acc: 0.9852\n",
      "\n",
      "Epoch 7/9\n",
      "----------\n",
      "Adjusting learning rate of group 0 to 1.0000e-05.\n",
      "train Loss: 0.8773 Acc: 0.7337\n",
      "test Loss: 0.0473 Acc: 0.9845\n",
      "\n",
      "Epoch 8/9\n",
      "----------\n",
      "Adjusting learning rate of group 0 to 1.0000e-06.\n",
      "train Loss: 0.8691 Acc: 0.7345\n",
      "test Loss: 0.0463 Acc: 0.9849\n",
      "\n",
      "Epoch 9/9\n",
      "----------\n",
      "Adjusting learning rate of group 0 to 1.0000e-06.\n",
      "train Loss: 0.8663 Acc: 0.7367\n",
      "test Loss: 0.0442 Acc: 0.9847\n",
      "\n",
      "Training complete in 54m 55s\n",
      "Best test Acc: 0.985155\n"
     ]
    }
   ],
   "source": [
    "#os.environ[\"CUDA_LAUNCH_BLOCKING\"] = \"1\"\n",
    "model_res_50 = train_model(model_res_50, criterion, optimizer_ft, exp_lr_scheduler,\n",
    "                       num_epochs=10)"
   ]
  },
  {
   "cell_type": "code",
   "execution_count": 8,
   "id": "17987e1b-e23a-49b2-b68e-0a96a00afd19",
   "metadata": {
    "tags": []
   },
   "outputs": [],
   "source": [
    "torch.save(model_res_50.state_dict(), r\"C:\\Users\\azabe\\Desktop\\Masters\\AppliedAI\\resnet50_10_aug.pt\")"
   ]
  },
  {
   "cell_type": "markdown",
   "id": "0bc50c49-44f9-4169-b5f4-d49dc2daac79",
   "metadata": {
    "tags": []
   },
   "source": [
    "#### ResNet50 Architecture Re-Load"
   ]
  },
  {
   "cell_type": "code",
   "execution_count": 4,
   "id": "26eb776e-0df0-4406-9115-85ad79957993",
   "metadata": {
    "tags": []
   },
   "outputs": [
    {
     "data": {
      "text/plain": [
       "<All keys matched successfully>"
      ]
     },
     "execution_count": 4,
     "metadata": {},
     "output_type": "execute_result"
    }
   ],
   "source": [
    "# Instantiate the model\n",
    "model_res_50 = models.resnet50(weights='IMAGENET1K_V1')\n",
    "num_ftrs = model_res_50.fc.in_features\n",
    "# Modify the final fully connected layer to match the number of classes in the loaded state_dict\n",
    "num_classes = 26\n",
    "model_res_50.fc = torch.nn.Linear(in_features=num_ftrs, out_features=num_classes)\n",
    "\n",
    "# Load the state dictionary from the file\n",
    "state_dict = torch.load(r\"C:\\Users\\azabe\\Desktop\\Masters\\AppliedAI\\resnet50_10_aug.pt\", map_location='cpu')\n",
    "\n",
    "# Load the state dictionary into the model\n",
    "model_res_50.load_state_dict(state_dict)"
   ]
  },
  {
   "cell_type": "markdown",
   "id": "993d1f18-eebb-46bf-a068-e8befeae1934",
   "metadata": {
    "jp-MarkdownHeadingCollapsed": true,
    "tags": []
   },
   "source": [
    "##### ResNet 101 Architecture"
   ]
  },
  {
   "cell_type": "code",
   "execution_count": 52,
   "id": "761adee5-517c-40ad-bf96-a91af5feff5c",
   "metadata": {
    "tags": []
   },
   "outputs": [
    {
     "name": "stderr",
     "output_type": "stream",
     "text": [
      "Downloading: \"https://download.pytorch.org/models/resnet101-63fe2227.pth\" to C:\\Users\\azabe/.cache\\torch\\hub\\checkpoints\\resnet101-63fe2227.pth\n",
      "100%|██████████| 171M/171M [00:14<00:00, 12.5MB/s] \n"
     ]
    },
    {
     "name": "stdout",
     "output_type": "stream",
     "text": [
      "Adjusting learning rate of group 0 to 1.0000e-03.\n"
     ]
    }
   ],
   "source": [
    "model_res_101 = models.resnet101(weights='IMAGENET1K_V1')\n",
    "num_ftrs = model_res_101.fc.in_features\n",
    "\n",
    "model_res_101.fc = nn.Linear(num_ftrs,len(class_names))\n",
    "\n",
    "model_res_101 = model_res_101.to(device)\n",
    "\n",
    "criterion = nn.CrossEntropyLoss()\n",
    "\n",
    "# Observe that all parameters are being optimized~\n",
    "optimizer_ft = optim.SGD(model_res_101.parameters(), lr=0.001, momentum=0.9)\n",
    "\n",
    "# Decay LR by a factor of 0.1 every 7 epochs\n",
    "exp_lr_scheduler = lr_scheduler.StepLR(optimizer_ft, step_size=3, gamma=0.1, verbose = True)"
   ]
  },
  {
   "cell_type": "code",
   "execution_count": 54,
   "id": "1c2b4b1e-8469-4ecf-8db4-8c006a8214fc",
   "metadata": {
    "tags": []
   },
   "outputs": [
    {
     "name": "stdout",
     "output_type": "stream",
     "text": [
      "Epoch 0/9\n",
      "----------\n",
      "Adjusting learning rate of group 0 to 1.0000e-03.\n",
      "train Loss: 1.1167 Acc: 0.6588\n",
      "test Loss: 0.1308 Acc: 0.9524\n",
      "\n",
      "Epoch 1/9\n",
      "----------\n",
      "Adjusting learning rate of group 0 to 1.0000e-04.\n",
      "train Loss: 1.0094 Acc: 0.6907\n",
      "test Loss: 0.1188 Acc: 0.9564\n",
      "\n",
      "Epoch 2/9\n",
      "----------\n",
      "Adjusting learning rate of group 0 to 1.0000e-04.\n",
      "train Loss: 0.8957 Acc: 0.7267\n",
      "test Loss: 0.0560 Acc: 0.9798\n",
      "\n",
      "Epoch 3/9\n",
      "----------\n",
      "Adjusting learning rate of group 0 to 1.0000e-04.\n",
      "train Loss: 0.8792 Acc: 0.7305\n",
      "test Loss: 0.0456 Acc: 0.9845\n",
      "\n",
      "Epoch 4/9\n",
      "----------\n",
      "Adjusting learning rate of group 0 to 1.0000e-05.\n",
      "train Loss: 0.8398 Acc: 0.7443\n",
      "test Loss: 0.0435 Acc: 0.9857\n",
      "\n",
      "Epoch 5/9\n",
      "----------\n",
      "Adjusting learning rate of group 0 to 1.0000e-05.\n",
      "train Loss: 0.8401 Acc: 0.7436\n",
      "test Loss: 0.0416 Acc: 0.9862\n",
      "\n",
      "Epoch 6/9\n",
      "----------\n",
      "Adjusting learning rate of group 0 to 1.0000e-05.\n",
      "train Loss: 0.8358 Acc: 0.7453\n",
      "test Loss: 0.0420 Acc: 0.9865\n",
      "\n",
      "Epoch 7/9\n",
      "----------\n",
      "Adjusting learning rate of group 0 to 1.0000e-06.\n",
      "train Loss: 0.8268 Acc: 0.7483\n",
      "test Loss: 0.0404 Acc: 0.9869\n",
      "\n",
      "Epoch 8/9\n",
      "----------\n",
      "Adjusting learning rate of group 0 to 1.0000e-06.\n",
      "train Loss: 0.8386 Acc: 0.7444\n",
      "test Loss: 0.0369 Acc: 0.9888\n",
      "\n",
      "Epoch 9/9\n",
      "----------\n",
      "Adjusting learning rate of group 0 to 1.0000e-06.\n",
      "train Loss: 0.8444 Acc: 0.7420\n",
      "test Loss: 0.0361 Acc: 0.9889\n",
      "\n",
      "Training complete in 75m 28s\n",
      "Best test Acc: 0.988910\n"
     ]
    }
   ],
   "source": [
    "#os.environ[\"CUDA_LAUNCH_BLOCKING\"] = \"1\"\n",
    "model_res_101 = train_model(model_res_101, criterion, optimizer_ft, exp_lr_scheduler,\n",
    "                       num_epochs=10)"
   ]
  },
  {
   "cell_type": "code",
   "execution_count": 55,
   "id": "6aca8d24-bc92-444e-9ce3-62796d1f5095",
   "metadata": {
    "tags": []
   },
   "outputs": [],
   "source": [
    "torch.save(model_res_101.state_dict(), r\"C:\\Users\\azabe\\Desktop\\Masters\\AppliedAI\\resnet101_10_aug.pt\")"
   ]
  },
  {
   "cell_type": "markdown",
   "id": "d8a70b0a-545d-4343-bf6f-5cac4c31e32e",
   "metadata": {},
   "source": [
    "#### ResNet 101 Architecture Re-Load"
   ]
  },
  {
   "cell_type": "code",
   "execution_count": 5,
   "id": "57799e53-45d3-4c2c-aa26-8e64ca5cceb0",
   "metadata": {
    "tags": []
   },
   "outputs": [
    {
     "data": {
      "text/plain": [
       "<All keys matched successfully>"
      ]
     },
     "execution_count": 5,
     "metadata": {},
     "output_type": "execute_result"
    }
   ],
   "source": [
    "# Instantiate the model\n",
    "model_res_101 = models.resnet101(weights='IMAGENET1K_V1')\n",
    "num_ftrs = model_res_101.fc.in_features\n",
    "# Modify the final fully connected layer to match the number of classes in the loaded state_dict\n",
    "num_classes = 26\n",
    "model_res_101.fc = torch.nn.Linear(in_features=num_ftrs, out_features=num_classes)\n",
    "\n",
    "# Load the state dictionary from the file\n",
    "state_dict = torch.load(r\"C:\\Users\\azabe\\Desktop\\Masters\\AppliedAI\\resnet101_10_aug.pt\", map_location='cpu')\n",
    "\n",
    "# Load the state dictionary into the model\n",
    "model_res_101.load_state_dict(state_dict)"
   ]
  },
  {
   "cell_type": "markdown",
   "id": "26821602-9cb9-464c-9a97-42d1fb3dee65",
   "metadata": {
    "jp-MarkdownHeadingCollapsed": true,
    "tags": []
   },
   "source": [
    "##### ResNet18 as feature extractor "
   ]
  },
  {
   "cell_type": "code",
   "execution_count": 10,
   "id": "c5f3d765-dad3-4cd3-985a-f56319857a23",
   "metadata": {
    "tags": []
   },
   "outputs": [
    {
     "name": "stdout",
     "output_type": "stream",
     "text": [
      "Adjusting learning rate of group 0 to 1.0000e-02.\n"
     ]
    }
   ],
   "source": [
    "model_res_18_l = models.resnet18(weights='IMAGENET1K_V1')\n",
    "for param in model_res_18_l.parameters():\n",
    "    param.requires_grad = False\n",
    "\n",
    "# Parameters of newly constructed modules have requires_grad=True by default\n",
    "num_ftrs = model_res_18_l.fc.in_features\n",
    "model_res_18_l.fc = nn.Linear(num_ftrs, len(class_names))\n",
    "\n",
    "model_res_18_l = model_res_18_l.to(device)\n",
    "\n",
    "criterion = nn.CrossEntropyLoss()\n",
    "\n",
    "# Observe that only parameters of final layer are being optimized as\n",
    "# opposed to before.\n",
    "optimizer_fe = optim.SGD(model_res_18_l.fc.parameters(), lr=0.01, momentum=0.8)\n",
    "\n",
    "# Decay LR by a factor of 0.1 every 7 epochs\n",
    "exp_lr_scheduler = lr_scheduler.StepLR(optimizer_fe, step_size=3, gamma=0.1, verbose = True)"
   ]
  },
  {
   "cell_type": "code",
   "execution_count": 11,
   "id": "8afb9fc8-33d0-4860-8f6d-5f0b3e4bd038",
   "metadata": {
    "tags": []
   },
   "outputs": [
    {
     "name": "stdout",
     "output_type": "stream",
     "text": [
      "Epoch 0/9\n",
      "----------\n",
      "Adjusting learning rate of group 0 to 1.0000e-02.\n",
      "train Loss: 2.9155 Acc: 0.1711\n",
      "test Loss: 2.2564 Acc: 0.2979\n",
      "\n",
      "Epoch 1/9\n",
      "----------\n",
      "Adjusting learning rate of group 0 to 1.0000e-02.\n",
      "train Loss: 2.7058 Acc: 0.2291\n",
      "test Loss: 2.0205 Acc: 0.3588\n",
      "\n",
      "Epoch 2/9\n",
      "----------\n",
      "Adjusting learning rate of group 0 to 1.0000e-03.\n",
      "train Loss: 2.6646 Acc: 0.2402\n",
      "test Loss: 1.9677 Acc: 0.3823\n",
      "\n",
      "Epoch 3/9\n",
      "----------\n",
      "Adjusting learning rate of group 0 to 1.0000e-03.\n",
      "train Loss: 2.4678 Acc: 0.2827\n",
      "test Loss: 1.7902 Acc: 0.4358\n",
      "\n",
      "Epoch 4/9\n",
      "----------\n",
      "Adjusting learning rate of group 0 to 1.0000e-03.\n",
      "train Loss: 2.4535 Acc: 0.2903\n",
      "test Loss: 1.8038 Acc: 0.4319\n",
      "\n",
      "Epoch 5/9\n",
      "----------\n",
      "Adjusting learning rate of group 0 to 1.0000e-04.\n",
      "train Loss: 2.4489 Acc: 0.2908\n",
      "test Loss: 1.7621 Acc: 0.4538\n",
      "\n",
      "Epoch 6/9\n",
      "----------\n",
      "Adjusting learning rate of group 0 to 1.0000e-04.\n",
      "train Loss: 2.4237 Acc: 0.2993\n",
      "test Loss: 1.7672 Acc: 0.4505\n",
      "\n",
      "Epoch 7/9\n",
      "----------\n",
      "Adjusting learning rate of group 0 to 1.0000e-04.\n",
      "train Loss: 2.4301 Acc: 0.2987\n",
      "test Loss: 1.7725 Acc: 0.4520\n",
      "\n",
      "Epoch 8/9\n",
      "----------\n",
      "Adjusting learning rate of group 0 to 1.0000e-05.\n",
      "train Loss: 2.4248 Acc: 0.2981\n",
      "test Loss: 1.7778 Acc: 0.4539\n",
      "\n",
      "Epoch 9/9\n",
      "----------\n",
      "Adjusting learning rate of group 0 to 1.0000e-05.\n",
      "train Loss: 2.4274 Acc: 0.2968\n",
      "test Loss: 1.7802 Acc: 0.4582\n",
      "\n",
      "Training complete in 20m 1s\n",
      "Best test Acc: 0.458173\n"
     ]
    }
   ],
   "source": [
    "model_res_18_l= train_model(model_res_18_l, criterion, optimizer_fe, exp_lr_scheduler,\n",
    "                       num_epochs=10)"
   ]
  },
  {
   "cell_type": "code",
   "execution_count": 12,
   "id": "b42f386b-2b27-47eb-9062-292b6ef0f0a9",
   "metadata": {
    "tags": []
   },
   "outputs": [],
   "source": [
    "torch.save(model_res_18_l.state_dict(), r\"C:\\Users\\azabe\\Desktop\\Masters\\AppliedAI\\model_res_18_l.pt\")"
   ]
  },
  {
   "cell_type": "markdown",
   "id": "d9d45bfe-a167-4c92-8fcc-94ced7606cee",
   "metadata": {
    "tags": []
   },
   "source": [
    "#### ResNet18 as feature extractor Re-Load"
   ]
  },
  {
   "cell_type": "code",
   "execution_count": 7,
   "id": "20a2e76b-8803-4efa-9d89-822d3a8e276e",
   "metadata": {
    "tags": []
   },
   "outputs": [
    {
     "data": {
      "text/plain": [
       "<All keys matched successfully>"
      ]
     },
     "execution_count": 7,
     "metadata": {},
     "output_type": "execute_result"
    }
   ],
   "source": [
    "# Instantiate the model\n",
    "model_res_18_l = models.resnet18(weights='IMAGENET1K_V1')\n",
    "num_ftrs = model_res_18_l.fc.in_features\n",
    "# Modify the final fully connected layer to match the number of classes in the loaded state_dict\n",
    "num_classes = 26\n",
    "model_res_18_l.fc = torch.nn.Linear(in_features=num_ftrs, out_features=num_classes)\n",
    "\n",
    "# Load the state dictionary from the file\n",
    "state_dict = torch.load(r\"C:\\Users\\azabe\\Desktop\\Masters\\AppliedAI\\model_res_18_l.pt\", map_location='cpu')\n",
    "\n",
    "# Load the state dictionary into the model\n",
    "model_res_18_l.load_state_dict(state_dict)"
   ]
  },
  {
   "cell_type": "markdown",
   "id": "5ce11ec0-3ed5-44ed-9e08-7cd8b9fd044a",
   "metadata": {
    "jp-MarkdownHeadingCollapsed": true,
    "tags": []
   },
   "source": [
    "##### ResNet50 as feature extractor "
   ]
  },
  {
   "cell_type": "code",
   "execution_count": 19,
   "id": "0cf2feac-c48f-46a7-a0bd-3fff64d01270",
   "metadata": {
    "tags": []
   },
   "outputs": [],
   "source": [
    "model_res_50_l = models.resnet50(weights='IMAGENET1K_V1')\n",
    "for param in model_res_50_l.parameters():\n",
    "    param.requires_grad = False\n",
    "\n",
    "# Parameters of newly constructed modules have requires_grad=True by default\n",
    "num_ftrs = model_res_50_l.fc.in_features\n",
    "model_res_50_l.fc = nn.Linear(num_ftrs, len(class_names))\n",
    "\n",
    "model_res_50_l = model_res_50_l.to(device)\n",
    "\n",
    "criterion = nn.CrossEntropyLoss()\n",
    "\n",
    "# Observe that only parameters of final layer are being optimized as\n",
    "# opposed to before.\n",
    "optimizer_fe = optim.SGD(model_res_50_l.fc.parameters(), lr=0.01, momentum=0.8)\n",
    "\n",
    "# Decay LR by a factor of 0.1 every 7 epochs\n",
    "exp_lr_scheduler = lr_scheduler.StepLR(optimizer_fe, step_size=3, gamma=0.1, verbose = True)"
   ]
  },
  {
   "cell_type": "code",
   "execution_count": 21,
   "id": "3fb2f8ce-cbbc-4864-adeb-240942cd484a",
   "metadata": {
    "tags": []
   },
   "outputs": [
    {
     "name": "stdout",
     "output_type": "stream",
     "text": [
      "Epoch 0/9\n",
      "----------\n",
      "train Loss: 2.8312 Acc: 0.2005\n",
      "test Loss: 1.9983 Acc: 0.3914\n",
      "\n",
      "Epoch 1/9\n",
      "----------\n",
      "train Loss: 2.7340 Acc: 0.2262\n",
      "test Loss: 1.9950 Acc: 0.3709\n",
      "\n",
      "Epoch 2/9\n",
      "----------\n",
      "train Loss: 2.7144 Acc: 0.2340\n",
      "test Loss: 2.1773 Acc: 0.3353\n",
      "\n",
      "Epoch 3/9\n",
      "----------\n",
      "train Loss: 2.6883 Acc: 0.2400\n",
      "test Loss: 1.9026 Acc: 0.4053\n",
      "\n",
      "Epoch 4/9\n",
      "----------\n",
      "train Loss: 2.6600 Acc: 0.2477\n",
      "test Loss: 1.8347 Acc: 0.4276\n",
      "\n",
      "Epoch 5/9\n",
      "----------\n",
      "train Loss: 2.6329 Acc: 0.2531\n",
      "test Loss: 1.8490 Acc: 0.4200\n",
      "\n",
      "Epoch 6/9\n",
      "----------\n",
      "train Loss: 2.6005 Acc: 0.2635\n",
      "test Loss: 1.7657 Acc: 0.4439\n",
      "\n",
      "Epoch 7/9\n",
      "----------\n",
      "train Loss: 2.4311 Acc: 0.3002\n",
      "test Loss: 1.6734 Acc: 0.4849\n",
      "\n",
      "Epoch 8/9\n",
      "----------\n",
      "train Loss: 2.4284 Acc: 0.3006\n",
      "test Loss: 1.6856 Acc: 0.4878\n",
      "\n",
      "Epoch 9/9\n",
      "----------\n",
      "train Loss: 2.4173 Acc: 0.3029\n",
      "test Loss: 1.6717 Acc: 0.4872\n",
      "\n",
      "Training complete in 32m 18s\n",
      "Best test Acc: 0.487775\n"
     ]
    }
   ],
   "source": [
    "#os.environ[\"CUDA_LAUNCH_BLOCKING\"] = \"1\"\n",
    "model_res_50_l= train_model(model_res_50_l, criterion, optimizer_fe, exp_lr_scheduler,\n",
    "                       num_epochs=10)"
   ]
  },
  {
   "cell_type": "code",
   "execution_count": 22,
   "id": "d50d5fe6-c253-4f80-a9a6-06502d0de53e",
   "metadata": {
    "tags": []
   },
   "outputs": [],
   "source": [
    "torch.save(model_res_50_l.state_dict(), r\"C:\\Users\\azabe\\Desktop\\Masters\\AppliedAI\\model_res_50_l.pt\")"
   ]
  },
  {
   "cell_type": "markdown",
   "id": "74cfda27-cfdc-4c56-a118-6868b60915c6",
   "metadata": {
    "tags": []
   },
   "source": [
    "#### ResNet50 as feature extractor Re-Load"
   ]
  },
  {
   "cell_type": "code",
   "execution_count": 6,
   "id": "b9542798-2e82-4b3c-b7da-039422469911",
   "metadata": {
    "tags": []
   },
   "outputs": [
    {
     "data": {
      "text/plain": [
       "<All keys matched successfully>"
      ]
     },
     "execution_count": 6,
     "metadata": {},
     "output_type": "execute_result"
    }
   ],
   "source": [
    "# Instantiate the model\n",
    "model_res_50_l = models.resnet50(weights='IMAGENET1K_V1')\n",
    "num_ftrs = model_res_50_l.fc.in_features\n",
    "# Modify the final fully connected layer to match the number of classes in the loaded state_dict\n",
    "num_classes = 26\n",
    "model_res_50_l.fc = torch.nn.Linear(in_features=num_ftrs, out_features=num_classes)\n",
    "\n",
    "# Load the state dictionary from the file\n",
    "state_dict = torch.load(r\"C:\\Users\\azabe\\Desktop\\Masters\\AppliedAI\\model_res_50_l.pt\", map_location='cpu')\n",
    "\n",
    "# Load the state dictionary into the model\n",
    "model_res_50_l.load_state_dict(state_dict)"
   ]
  },
  {
   "cell_type": "markdown",
   "id": "b3758703-850b-462c-8ded-4a6f7326aead",
   "metadata": {
    "jp-MarkdownHeadingCollapsed": true,
    "tags": []
   },
   "source": [
    "##### ResNet101 as feature extractor "
   ]
  },
  {
   "cell_type": "code",
   "execution_count": 59,
   "id": "1388a1e8-4c55-4d59-b918-b278e0b83b67",
   "metadata": {
    "tags": []
   },
   "outputs": [
    {
     "name": "stdout",
     "output_type": "stream",
     "text": [
      "Adjusting learning rate of group 0 to 1.0000e-02.\n"
     ]
    }
   ],
   "source": [
    "model_res_101_l = models.resnet101(weights='IMAGENET1K_V1')\n",
    "for param in model_res_101_l.parameters():\n",
    "    param.requires_grad = False\n",
    "\n",
    "# Parameters of newly constructed modules have requires_grad=True by default\n",
    "num_ftrs = model_res_101_l.fc.in_features\n",
    "model_res_101_l.fc = nn.Linear(num_ftrs, len(class_names))\n",
    "\n",
    "model_res_101_l = model_res_101_l.to(device)\n",
    "\n",
    "criterion = nn.CrossEntropyLoss()\n",
    "\n",
    "# Observe that only parameters of final layer are being optimized as\n",
    "# opposed to before.\n",
    "optimizer_fe = optim.SGD(model_res_101_l.fc.parameters(), lr=0.01, momentum=0.8)\n",
    "\n",
    "# Decay LR by a factor of 0.1 every 7 epochs\n",
    "exp_lr_scheduler = lr_scheduler.StepLR(optimizer_fe, step_size=3, gamma=0.1, verbose = True)"
   ]
  },
  {
   "cell_type": "code",
   "execution_count": 60,
   "id": "23f2ad85-f232-4cef-b35a-2bcfdb4e91cb",
   "metadata": {
    "tags": []
   },
   "outputs": [
    {
     "name": "stdout",
     "output_type": "stream",
     "text": [
      "Epoch 0/9\n",
      "----------\n",
      "Adjusting learning rate of group 0 to 1.0000e-02.\n",
      "train Loss: 2.9061 Acc: 0.1776\n",
      "test Loss: 2.1546 Acc: 0.3148\n",
      "\n",
      "Epoch 1/9\n",
      "----------\n",
      "Adjusting learning rate of group 0 to 1.0000e-02.\n",
      "train Loss: 2.7187 Acc: 0.2298\n",
      "test Loss: 2.0695 Acc: 0.3702\n",
      "\n",
      "Epoch 2/9\n",
      "----------\n",
      "Adjusting learning rate of group 0 to 1.0000e-03.\n",
      "train Loss: 2.6669 Acc: 0.2461\n",
      "test Loss: 1.9569 Acc: 0.3590\n",
      "\n",
      "Epoch 3/9\n",
      "----------\n",
      "Adjusting learning rate of group 0 to 1.0000e-03.\n",
      "train Loss: 2.4339 Acc: 0.2971\n",
      "test Loss: 1.7898 Acc: 0.4335\n",
      "\n",
      "Epoch 4/9\n",
      "----------\n",
      "Adjusting learning rate of group 0 to 1.0000e-03.\n",
      "train Loss: 2.4324 Acc: 0.2963\n",
      "test Loss: 1.7604 Acc: 0.4509\n",
      "\n",
      "Epoch 5/9\n",
      "----------\n",
      "Adjusting learning rate of group 0 to 1.0000e-04.\n",
      "train Loss: 2.4184 Acc: 0.3022\n",
      "test Loss: 1.7804 Acc: 0.4397\n",
      "\n",
      "Epoch 6/9\n",
      "----------\n",
      "Adjusting learning rate of group 0 to 1.0000e-04.\n",
      "train Loss: 2.3988 Acc: 0.3088\n",
      "test Loss: 1.7612 Acc: 0.4497\n",
      "\n",
      "Epoch 7/9\n",
      "----------\n",
      "Adjusting learning rate of group 0 to 1.0000e-04.\n",
      "train Loss: 2.3974 Acc: 0.3098\n",
      "test Loss: 1.7708 Acc: 0.4475\n",
      "\n",
      "Epoch 8/9\n",
      "----------\n",
      "Adjusting learning rate of group 0 to 1.0000e-05.\n",
      "train Loss: 2.3933 Acc: 0.3092\n",
      "test Loss: 1.7422 Acc: 0.4531\n",
      "\n",
      "Epoch 9/9\n",
      "----------\n",
      "Adjusting learning rate of group 0 to 1.0000e-05.\n",
      "train Loss: 2.3929 Acc: 0.3101\n",
      "test Loss: 1.7735 Acc: 0.4371\n",
      "\n",
      "Training complete in 39m 6s\n",
      "Best test Acc: 0.453109\n"
     ]
    }
   ],
   "source": [
    "#os.environ[\"CUDA_LAUNCH_BLOCKING\"] = \"1\"\n",
    "model_res_101_l= train_model(model_res_101_l, criterion, optimizer_fe, exp_lr_scheduler,\n",
    "                       num_epochs=10)"
   ]
  },
  {
   "cell_type": "code",
   "execution_count": 61,
   "id": "37149004-747e-41e3-bc63-381f3da6cfb2",
   "metadata": {
    "tags": []
   },
   "outputs": [],
   "source": [
    "torch.save(model_res_101_l.state_dict(), r\"C:\\Users\\azabe\\Desktop\\Masters\\AppliedAI\\model_res_101_l.pt\")"
   ]
  },
  {
   "cell_type": "markdown",
   "id": "78a417ca-90dd-432c-a54d-e0ef2f4582a0",
   "metadata": {
    "tags": []
   },
   "source": [
    "#### ResNet101 as feature extractor Re-Load"
   ]
  },
  {
   "cell_type": "code",
   "execution_count": 8,
   "id": "9846f617-d8d8-4b6a-a7da-5ff5c7841287",
   "metadata": {
    "tags": []
   },
   "outputs": [
    {
     "data": {
      "text/plain": [
       "<All keys matched successfully>"
      ]
     },
     "execution_count": 8,
     "metadata": {},
     "output_type": "execute_result"
    }
   ],
   "source": [
    "# Instantiate the model\n",
    "model_res_101_l = models.resnet101(weights='IMAGENET1K_V1')\n",
    "num_ftrs = model_res_101_l.fc.in_features\n",
    "# Modify the final fully connected layer to match the number of classes in the loaded state_dict\n",
    "num_classes = 26\n",
    "model_res_101_l.fc = torch.nn.Linear(in_features=num_ftrs, out_features=num_classes)\n",
    "\n",
    "# Load the state dictionary from the file\n",
    "state_dict = torch.load(r\"C:\\Users\\azabe\\Desktop\\Masters\\AppliedAI\\model_res_101_l.pt\", map_location='cpu')\n",
    "\n",
    "# Load the state dictionary into the model\n",
    "model_res_101_l.load_state_dict(state_dict)"
   ]
  },
  {
   "cell_type": "markdown",
   "id": "92cd9c99-7bfb-4ef7-9941-a3a8ae8d79a8",
   "metadata": {
    "tags": []
   },
   "source": [
    "#### Model evaluation "
   ]
  },
  {
   "cell_type": "markdown",
   "id": "8faa8045-58e1-4dee-a88a-c3f6a3a87e28",
   "metadata": {
    "tags": []
   },
   "source": [
    "##### Tables of Accuracy"
   ]
  },
  {
   "cell_type": "code",
   "execution_count": 16,
   "id": "465bd625-529c-45e6-b1db-5491a24a6e51",
   "metadata": {},
   "outputs": [
    {
     "name": "stdout",
     "output_type": "stream",
     "text": [
      "+-----------------+------------+\n",
      "| Model Name      |   Accuracy |\n",
      "+=================+============+\n",
      "| model_res_101_l |   0.455117 |\n",
      "+-----------------+------------+\n",
      "| model_res_50_l  |   0.48437  |\n",
      "+-----------------+------------+\n",
      "| model_res_18_l  |   0.454942 |\n",
      "+-----------------+------------+\n",
      "| model_res_101   |   0.988736 |\n",
      "+-----------------+------------+\n",
      "| model_res_50    |   0.985854 |\n",
      "+-----------------+------------+\n",
      "| model_res_18    |   0.990482 |\n",
      "+-----------------+------------+\n"
     ]
    }
   ],
   "source": [
    "model_names = ['model_res_101_l', 'model_res_50_l', 'model_res_18_l', 'model_res_101', 'model_res_50', 'model_res_18']\n",
    "\n",
    "# Initialize a list to store accuracy scores\n",
    "accuracy_scores = []\n",
    "\n",
    "model_res_101_l.to(device)\n",
    "model_res_50_l.to(device)\n",
    "model_res_18_l.to(device)\n",
    "model_res_101.to(device)\n",
    "model_res_50.to(device)\n",
    "model_res_18.to(device)\n",
    "\n",
    "# Function to evaluate a model and return accuracy\n",
    "def evaluate_model(model, dataloader):\n",
    "    model.eval()\n",
    "    true_labels = []\n",
    "    predicted_labels = []\n",
    "\n",
    "    with torch.no_grad():\n",
    "        for inputs, labels in dataloader:\n",
    "            inputs = inputs.to(device)\n",
    "            labels = labels.to(device)\n",
    "\n",
    "            outputs = model(inputs)\n",
    "            _, preds = torch.max(outputs, 1)\n",
    "\n",
    "            true_labels.extend(labels.cpu().numpy())\n",
    "            predicted_labels.extend(preds.cpu().numpy())\n",
    "\n",
    "    accuracy = metrics.accuracy_score(true_labels, predicted_labels)\n",
    "    return accuracy\n",
    "\n",
    "# Evaluate each model and store accuracy scores\n",
    "for model in [model_res_101_l, model_res_50_l, model_res_18_l, model_res_101, model_res_50, model_res_18]:\n",
    "    accuracy = evaluate_model(model, dataloaders['test'])\n",
    "    accuracy_scores.append(accuracy)\n",
    "\n",
    "# Create a table\n",
    "table_data = list(zip(model_names, accuracy_scores))\n",
    "table_headers = [\"Model Name\", \"Accuracy\"]\n",
    "table = tabulate(table_data, headers=table_headers, tablefmt=\"grid\")\n",
    "\n",
    "# Print the table\n",
    "print(table)"
   ]
  },
  {
   "cell_type": "markdown",
   "id": "7ec1630d-a803-49fd-aed7-199ea62a62aa",
   "metadata": {},
   "source": [
    "Code to creat validation set easily "
   ]
  },
  {
   "cell_type": "code",
   "execution_count": null,
   "id": "bd086e9f-6e9a-4b72-b7e8-5003836a44d7",
   "metadata": {},
   "outputs": [],
   "source": [
    "#  this, this is the code we used to create our own validation set\n",
    "path = os.path.join(\"ISL\", \"Validation\") # where we write the results\n",
    "\n",
    "# parameters of the image capture\n",
    "abcs = ['A', 'B', 'C', 'D', 'E', 'F', 'G', 'H', 'I', 'J', 'K', 'L', 'M', 'N', 'O', 'P', 'Q', 'R', 'S', 'T', 'U', 'V', 'W', 'X', 'Y', 'Z']\n",
    "num_img = 11 # number of images to caputre, had to use 11 as on my system it takes a frame to initialise the camera\n",
    "\n",
    "for label in abcs:\n",
    "    os.makedirs(os.path.join(path, label), exist_ok=True)\n",
    "    cap = cv2.VideoCapture(0)\n",
    "    print(f\"Recording images for {label}\") # show what we will record\n",
    "    time.sleep(5) # time between recordings\n",
    "    for imgnum in range(num_img):\n",
    "        ret, frame = cap.read()\n",
    "        imagename = os.path.join(path, label, \".\"+\"{}.jpg\".format(str(uuid.uuid1()))) # generate unique file names\n",
    "        cv2.imwrite(imagename, frame)\n",
    "        cv2.imshow(\"frame\", frame)\n",
    "        time.sleep(2) # give time to move between captures\n",
    "        \n",
    "        if cv2.waitKey(1) && 0xFF == ord(q): # quit criterion to exit the program\n",
    "            break\n",
    "    cap.release()"
   ]
  },
  {
   "cell_type": "markdown",
   "id": "e1310453-4473-446d-8e6f-b3ef9cf8115b",
   "metadata": {},
   "source": [
    "Open validation set, transform it the same way we transformed the test set to keep things fair and create data loader for prediction"
   ]
  },
  {
   "cell_type": "code",
   "execution_count": 57,
   "id": "14585b6c-b32c-4605-9bab-024150baf6de",
   "metadata": {
    "tags": []
   },
   "outputs": [],
   "source": [
    "eval_path = os.path.join(\"ISL\", \"Our pictures (1)-20240117T150704Z-001\",\"Our pictures (1)\")\n",
    "\n",
    "# Define the evaluation data transform\n",
    "eval_transform = transforms.Compose([\n",
    "    transforms.Resize(256),\n",
    "    transforms.CenterCrop(224),\n",
    "    transforms.ToTensor(),\n",
    "    transforms.Normalize([0.485, 0.456, 0.406], [0.229, 0.224, 0.225])\n",
    "])\n",
    "\n",
    "# Create an evaluation dataset\n",
    "eval_dataset = datasets.ImageFolder(eval_path, eval_transform)\n",
    "\n",
    "# Create an evaluation dataloader\n",
    "eval_dataloader = torch.utils.data.DataLoader(eval_dataset, batch_size=30, shuffle=True, num_workers=24)\n"
   ]
  },
  {
   "cell_type": "code",
   "execution_count": 44,
   "id": "c666c398-4ee4-48e7-8a8f-81bcf8ecf15d",
   "metadata": {
    "tags": []
   },
   "outputs": [
    {
     "name": "stdout",
     "output_type": "stream",
     "text": [
      "Evaluation Results:\n",
      "+-----------------+------------+\n",
      "| Model Name      |   Accuracy |\n",
      "+=================+============+\n",
      "| model_res_101_l |  0.0373134 |\n",
      "+-----------------+------------+\n",
      "| model_res_50_l  |  0.0410448 |\n",
      "+-----------------+------------+\n",
      "| model_res_18_l  |  0.0447761 |\n",
      "+-----------------+------------+\n",
      "| model_res_101   |  0.597015  |\n",
      "+-----------------+------------+\n",
      "| model_res_50    |  0.61194   |\n",
      "+-----------------+------------+\n",
      "| model_res_18    |  0.447761  |\n",
      "+-----------------+------------+\n"
     ]
    }
   ],
   "source": [
    "# Evaluate each model on the evaluation set\n",
    "eval_accuracy_scores = []\n",
    "\n",
    "for model in [model_res_101_l, model_res_50_l, model_res_18_l, model_res_101, model_res_50, model_res_18]:\n",
    "    accuracy = evaluate_model(model, eval_dataloader)\n",
    "    eval_accuracy_scores.append(accuracy)\n",
    "\n",
    "# Create a table for evaluation results\n",
    "eval_table_data = list(zip(model_names, eval_accuracy_scores))\n",
    "eval_table_headers = [\"Model Name\", \"Accuracy\"]\n",
    "eval_table = tabulate(eval_table_data, headers=eval_table_headers, tablefmt=\"grid\")\n",
    "\n",
    "# Print the evaluation table\n",
    "print(\"Evaluation Results:\")\n",
    "print(eval_table)"
   ]
  },
  {
   "cell_type": "markdown",
   "id": "61c62d3a-50dd-41e4-8c98-da5a355f66da",
   "metadata": {
    "tags": []
   },
   "source": [
    "#### Visualising model results"
   ]
  },
  {
   "cell_type": "code",
   "execution_count": 40,
   "id": "f4e7f3a5-06a8-433c-b2b5-9c2614f8673a",
   "metadata": {
    "tags": []
   },
   "outputs": [],
   "source": [
    "def visualize_model(model, num_images=6, test_data = dataloaders['test']):  # checking the categorisation via testing on some images\n",
    "    was_training = model.training\n",
    "    model.eval()\n",
    "    images_so_far = 0\n",
    "    fig = plt.figure()\n",
    "\n",
    "    with torch.no_grad():\n",
    "        for i, (inputs, labels) in enumerate(test_data):\n",
    "            inputs = inputs.to(device)\n",
    "            labels = labels.to(device)\n",
    "\n",
    "            outputs = model(inputs)\n",
    "            #print(outputs) for checking the output \n",
    "            _, preds = torch.max(outputs, 1)\n",
    "            \n",
    "\n",
    "            for j in range(inputs.size()[0]):\n",
    "                images_so_far += 1\n",
    "                ax = plt.subplot(num_images//2, 2, images_so_far)\n",
    "                ax.axis('off')\n",
    "                ax.set_title(f'predicted: {class_names[preds[j]]}')\n",
    "                imshow(inputs.cpu().data[j])\n",
    "\n",
    "                if images_so_far == num_images:\n",
    "                    model.train(mode=was_training)\n",
    "                    return\n",
    "        model.train(mode=was_training)"
   ]
  },
  {
   "cell_type": "code",
   "execution_count": 41,
   "id": "0d7f9cbb-5a53-4898-a613-0aeb09fcdd6c",
   "metadata": {},
   "outputs": [
    {
     "data": {
      "image/png": "[encoded data removed]",
      "text/plain": [
       "<Figure size 640x480 with 1 Axes>"
      ]
     },
     "metadata": {},
     "output_type": "display_data"
    },
    {
     "data": {
      "image/png": "[encoded data removed]",
      "text/plain": [
       "<Figure size 640x480 with 1 Axes>"
      ]
     },
     "metadata": {},
     "output_type": "display_data"
    },
    {
     "data": {
      "image/png": "[encoded data removed]",
      "text/plain": [
       "<Figure size 640x480 with 1 Axes>"
      ]
     },
     "metadata": {},
     "output_type": "display_data"
    },
    {
     "data": {
      "image/png": "[encoded data removed]",
      "text/plain": [
       "<Figure size 640x480 with 1 Axes>"
      ]
     },
     "metadata": {},
     "output_type": "display_data"
    },
    {
     "data": {
      "image/png": "[encoded data removed]",
      "text/plain": [
       "<Figure size 640x480 with 1 Axes>"
      ]
     },
     "metadata": {},
     "output_type": "display_data"
    },
    {
     "data": {
      "image/png": "[encoded data removed]",
      "text/plain": [
       "<Figure size 640x480 with 1 Axes>"
      ]
     },
     "metadata": {},
     "output_type": "display_data"
    },
    {
     "data": {
      "image/png": "[encoded data removed]",
      "text/plain": [
       "<Figure size 640x480 with 1 Axes>"
      ]
     },
     "metadata": {},
     "output_type": "display_data"
    },
    {
     "data": {
      "image/png": "[encoded data removed]",
      "text/plain": [
       "<Figure size 640x480 with 1 Axes>"
      ]
     },
     "metadata": {},
     "output_type": "display_data"
    }
   ],
   "source": [
    "visualize_model(model_res_50, 8, dataloaders['test']) # the best model the fully trained ResNet50 seem to perform very well on the test set"
   ]
  },
  {
   "cell_type": "code",
   "execution_count": 47,
   "id": "f6b97f70-7e3c-4505-b899-9d5b5d21a231",
   "metadata": {
    "tags": []
   },
   "outputs": [
    {
     "data": {
      "image/png": "[encoded data removed]",
      "text/plain": [
       "<Figure size 640x480 with 1 Axes>"
      ]
     },
     "metadata": {},
     "output_type": "display_data"
    },
    {
     "data": {
      "image/png": "[encoded data removed]",
      "text/plain": [
       "<Figure size 640x480 with 1 Axes>"
      ]
     },
     "metadata": {},
     "output_type": "display_data"
    },
    {
     "data": {
      "image/png": "[encoded data removed]",
      "text/plain": [
       "<Figure size 640x480 with 1 Axes>"
      ]
     },
     "metadata": {},
     "output_type": "display_data"
    },
    {
     "data": {
      "image/png": "[encoded data removed]",
      "text/plain": [
       "<Figure size 640x480 with 1 Axes>"
      ]
     },
     "metadata": {},
     "output_type": "display_data"
    },
    {
     "data": {
      "image/png": "[encoded data removed]",
      "text/plain": [
       "<Figure size 640x480 with 1 Axes>"
      ]
     },
     "metadata": {},
     "output_type": "display_data"
    },
    {
     "data": {
      "image/png": "[encoded data removed]",
      "text/plain": [
       "<Figure size 640x480 with 1 Axes>"
      ]
     },
     "metadata": {},
     "output_type": "display_data"
    },
    {
     "data": {
      "image/png": "[encoded data removed]",
      "text/plain": [
       "<Figure size 640x480 with 1 Axes>"
      ]
     },
     "metadata": {},
     "output_type": "display_data"
    },
    {
     "data": {
      "image/png": "[encoded data removed]",
      "text/plain": [
       "<Figure size 640x480 with 1 Axes>"
      ]
     },
     "metadata": {},
     "output_type": "display_data"
    }
   ],
   "source": [
    "visualize_model(model_res_50, 8, eval_dataloader) # The model correctly classifies some signs and struggles with others on data that it hasn't seen"
   ]
  },
  {
   "cell_type": "markdown",
   "id": "aea8197d-3ba2-4394-92e3-eb6cdd1d9dd4",
   "metadata": {
    "jp-MarkdownHeadingCollapsed": true,
    "tags": []
   },
   "source": [
    "##### Plotting Confusion Matrices "
   ]
  },
  {
   "cell_type": "code",
   "execution_count": 23,
   "id": "41023514-5e1a-4168-846e-846dfab445da",
   "metadata": {},
   "outputs": [
    {
     "data": {
      "image/png": "[encoded data removed]",
      "text/plain": [
       "<Figure size 1000x800 with 2 Axes>"
      ]
     },
     "metadata": {},
     "output_type": "display_data"
    },
    {
     "name": "stdout",
     "output_type": "stream",
     "text": [
      "Classification Report:\n",
      "              precision    recall  f1-score   support\n",
      "\n",
      "           A       1.00      1.00      1.00       422\n",
      "           B       1.00      1.00      1.00       449\n",
      "           C       1.00      1.00      1.00       428\n",
      "           D       1.00      0.98      0.99       496\n",
      "           E       0.99      0.98      0.99       497\n",
      "           F       1.00      0.98      0.99       467\n",
      "           G       0.98      1.00      0.99       438\n",
      "           H       0.95      0.98      0.96       483\n",
      "           I       1.00      0.99      0.99       452\n",
      "           J       1.00      1.00      1.00       407\n",
      "           K       1.00      0.97      0.98       471\n",
      "           L       1.00      1.00      1.00       434\n",
      "           M       1.00      1.00      1.00       441\n",
      "           N       1.00      0.96      0.98       388\n",
      "           O       0.97      1.00      0.99       455\n",
      "           P       0.97      0.98      0.98       470\n",
      "           Q       0.95      0.98      0.97       478\n",
      "           R       1.00      0.98      0.99       445\n",
      "           S       1.00      1.00      1.00       433\n",
      "           T       1.00      1.00      1.00       448\n",
      "           U       0.96      0.99      0.98       415\n",
      "           V       1.00      0.97      0.98       470\n",
      "           W       0.97      0.99      0.98       474\n",
      "           X       1.00      1.00      1.00       295\n",
      "           Y       1.00      1.00      1.00       435\n",
      "           Z       1.00      1.00      1.00       361\n",
      "\n",
      "    accuracy                           0.99     11452\n",
      "   macro avg       0.99      0.99      0.99     11452\n",
      "weighted avg       0.99      0.99      0.99     11452\n",
      "\n",
      "Overall Accuracy: 0.988822913028292\n"
     ]
    }
   ],
   "source": [
    "# Set the model to evaluation mode\n",
    "model_res_101.eval()\n",
    "\n",
    "# Initialize lists to store true labels and predicted labels\n",
    "true_labels = []\n",
    "predicted_labels = []\n",
    "\n",
    "# Iterate through the test set and make predictions\n",
    "with torch.no_grad():\n",
    "    for inputs, labels in dataloaders['test']:\n",
    "        inputs = inputs.to(device)\n",
    "        labels = labels.to(device)\n",
    "\n",
    "        outputs = model_res_101(inputs)\n",
    "        _, preds = torch.max(outputs, 1)\n",
    "\n",
    "        true_labels.extend(labels.cpu().numpy())\n",
    "        predicted_labels.extend(preds.cpu().numpy())\n",
    "\n",
    "# Create a confusion matrix\n",
    "conf_matrix = confusion_matrix(true_labels, predicted_labels)\n",
    "\n",
    "# Plot the confusion matrix using seaborn\n",
    "plt.figure(figsize=(10, 8))\n",
    "sns.heatmap(conf_matrix, annot=True, fmt='d', cmap='Blues', xticklabels=class_names, yticklabels=class_names)\n",
    "plt.xlabel('Predicted Labels')\n",
    "plt.ylabel('True Labels')\n",
    "plt.title('Confusion Matrix')\n",
    "plt.show()\n",
    "\n",
    "# Print classification report\n",
    "print(\"Classification Report:\")\n",
    "print(classification_report(true_labels, predicted_labels, target_names=class_names))\n",
    "\n",
    "# Calculate overall accuracy\n",
    "accuracy = metrics.accuracy_score(true_labels, predicted_labels)\n",
    "print(f\"Overall Accuracy: {accuracy}\")"
   ]
  },
  {
   "cell_type": "code",
   "execution_count": 24,
   "id": "c22e4b9e-bb94-4052-9b54-da5917ac0264",
   "metadata": {
    "tags": []
   },
   "outputs": [
    {
     "data": {
      "image/png": "[encoded data removed]",
      "text/plain": [
       "<Figure size 1000x800 with 2 Axes>"
      ]
     },
     "metadata": {},
     "output_type": "display_data"
    },
    {
     "name": "stdout",
     "output_type": "stream",
     "text": [
      "Classification Report:\n",
      "              precision    recall  f1-score   support\n",
      "\n",
      "           A       0.68      0.33      0.45       422\n",
      "           B       0.50      0.44      0.47       449\n",
      "           C       0.80      0.74      0.77       428\n",
      "           D       0.49      0.18      0.26       496\n",
      "           E       0.56      0.60      0.58       497\n",
      "           F       0.42      0.24      0.31       467\n",
      "           G       0.33      0.47      0.39       438\n",
      "           H       0.45      0.25      0.32       483\n",
      "           I       0.63      0.30      0.41       452\n",
      "           J       0.26      0.66      0.37       407\n",
      "           K       0.61      0.15      0.24       471\n",
      "           L       0.46      0.86      0.60       434\n",
      "           M       0.59      0.60      0.59       441\n",
      "           N       0.51      0.51      0.51       388\n",
      "           O       0.64      0.61      0.62       455\n",
      "           P       0.33      0.46      0.38       470\n",
      "           Q       0.27      0.27      0.27       478\n",
      "           R       0.54      0.14      0.22       445\n",
      "           S       0.52      0.26      0.34       433\n",
      "           T       0.43      0.41      0.42       448\n",
      "           U       0.30      0.25      0.27       415\n",
      "           V       0.36      0.50      0.42       470\n",
      "           W       0.30      0.63      0.41       474\n",
      "           X       0.83      0.87      0.85       295\n",
      "           Y       0.50      0.56      0.53       435\n",
      "           Z       0.59      0.73      0.66       361\n",
      "\n",
      "    accuracy                           0.45     11452\n",
      "   macro avg       0.50      0.46      0.45     11452\n",
      "weighted avg       0.49      0.45      0.44     11452\n",
      "\n",
      "Overall Accuracy: 0.45153684945860983\n"
     ]
    }
   ],
   "source": [
    "# Set the model to evaluation mode\n",
    "model_res_101_l.eval()\n",
    "\n",
    "# Initialize lists to store true labels and predicted labels\n",
    "true_labels = []\n",
    "predicted_labels = []\n",
    "\n",
    "# Iterate through the test set and make predictions\n",
    "with torch.no_grad():\n",
    "    for inputs, labels in dataloaders['test']:\n",
    "        inputs = inputs.to(device)\n",
    "        labels = labels.to(device)\n",
    "\n",
    "        outputs = model_res_101_l(inputs)\n",
    "        _, preds = torch.max(outputs, 1)\n",
    "\n",
    "        true_labels.extend(labels.cpu().numpy())\n",
    "        predicted_labels.extend(preds.cpu().numpy())\n",
    "\n",
    "# Create a confusion matrix\n",
    "conf_matrix = confusion_matrix(true_labels, predicted_labels)\n",
    "\n",
    "# Plot the confusion matrix using seaborn\n",
    "plt.figure(figsize=(10, 8))\n",
    "sns.heatmap(conf_matrix, annot=True, fmt='d', cmap='Blues', xticklabels=class_names, yticklabels=class_names)\n",
    "plt.xlabel('Predicted Labels')\n",
    "plt.ylabel('True Labels')\n",
    "plt.title('Confusion Matrix')\n",
    "plt.show()\n",
    "\n",
    "# Print classification report\n",
    "print(\"Classification Report:\")\n",
    "print(classification_report(true_labels, predicted_labels, target_names=class_names))\n",
    "\n",
    "# Calculate overall accuracy\n",
    "accuracy = metrics.accuracy_score(true_labels, predicted_labels)\n",
    "print(f\"Overall Accuracy: {accuracy}\")"
   ]
  },
  {
   "cell_type": "code",
   "execution_count": 52,
   "id": "27bbed66-ba95-48b4-8bdc-c19862920e04",
   "metadata": {
    "tags": []
   },
   "outputs": [
    {
     "data": {
      "image/png": "[encoded data removed]",
      "text/plain": [
       "<Figure size 1000x800 with 2 Axes>"
      ]
     },
     "metadata": {},
     "output_type": "display_data"
    },
    {
     "name": "stdout",
     "output_type": "stream",
     "text": [
      "Classification Report:\n",
      "              precision    recall  f1-score   support\n",
      "\n",
      "           A       1.00      1.00      1.00        10\n",
      "           B       1.00      1.00      1.00        10\n",
      "           C       0.56      1.00      0.71        10\n",
      "           D       0.91      1.00      0.95        10\n",
      "           E       0.75      0.60      0.67        10\n",
      "           F       0.25      0.10      0.14        10\n",
      "           G       0.26      1.00      0.42        10\n",
      "           H       1.00      1.00      1.00        10\n",
      "           I       1.00      0.30      0.46        10\n",
      "           J       0.00      0.00      0.00        10\n",
      "           K       0.00      0.00      0.00        10\n",
      "           L       0.91      1.00      0.95        10\n",
      "           M       0.29      0.60      0.39        10\n",
      "           N       0.29      0.20      0.24        10\n",
      "           O       0.82      0.90      0.86        10\n",
      "           P       0.64      0.90      0.75        10\n",
      "           Q       1.00      0.40      0.57        10\n",
      "           R       0.64      0.70      0.67        10\n",
      "           S       0.25      0.10      0.14        10\n",
      "           T       0.33      0.40      0.36        10\n",
      "           U       1.00      0.86      0.92        14\n",
      "           V       1.00      0.92      0.96        12\n",
      "           W       1.00      0.50      0.67        12\n",
      "           X       0.38      0.30      0.33        10\n",
      "           Y       0.90      0.90      0.90        10\n",
      "           Z       0.12      0.10      0.11        10\n",
      "\n",
      "    accuracy                           0.61       268\n",
      "   macro avg       0.63      0.61      0.58       268\n",
      "weighted avg       0.64      0.61      0.59       268\n",
      "\n",
      "Overall Accuracy: 0.6119402985074627\n"
     ]
    }
   ],
   "source": [
    "# Set the model to evaluation mode\n",
    "model_res_50.eval()\n",
    "\n",
    "# Initialize lists to store true labels and predicted labels\n",
    "true_labels = []\n",
    "predicted_labels = []\n",
    "\n",
    "# Iterate through the test set and make predictions\n",
    "with torch.no_grad():\n",
    "    for inputs, labels in eval_dataloader:\n",
    "        inputs = inputs.to(device)\n",
    "        labels = labels.to(device)\n",
    "\n",
    "        outputs = model_res_50(inputs)\n",
    "        _, preds = torch.max(outputs, 1)\n",
    "\n",
    "        true_labels.extend(labels.cpu().numpy())\n",
    "        predicted_labels.extend(preds.cpu().numpy())\n",
    "\n",
    "# Create a confusion matrix\n",
    "conf_matrix = confusion_matrix(true_labels, predicted_labels)\n",
    "\n",
    "# Plot the confusion matrix using seaborn\n",
    "plt.figure(figsize=(10, 8))\n",
    "sns.heatmap(conf_matrix, annot=True, fmt='d', cmap='Blues', xticklabels=class_names, yticklabels=class_names)\n",
    "plt.xlabel('Predicted Labels')\n",
    "plt.ylabel('True Labels')\n",
    "plt.title('Confusion Matrix')\n",
    "plt.show()\n",
    "\n",
    "# Print classification report\n",
    "print(\"Classification Report:\")\n",
    "print(classification_report(true_labels, predicted_labels, target_names=class_names))\n",
    "\n",
    "# Calculate overall accuracy\n",
    "accuracy = metrics.accuracy_score(true_labels, predicted_labels)\n",
    "print(f\"Overall Accuracy: {accuracy}\")"
   ]
  },
  {
   "cell_type": "code",
   "execution_count": 26,
   "id": "dc33d48d-9f0d-40f8-9930-b478bc43f41d",
   "metadata": {
    "tags": []
   },
   "outputs": [
    {
     "data": {
      "text/plain": [
       "=================================================================\n",
       "Layer (type:depth-idx)                   Param #\n",
       "=================================================================\n",
       "ResNet                                   --\n",
       "├─Conv2d: 1-1                            9,408\n",
       "├─BatchNorm2d: 1-2                       128\n",
       "├─ReLU: 1-3                              --\n",
       "├─MaxPool2d: 1-4                         --\n",
       "├─Sequential: 1-5                        --\n",
       "│    └─Bottleneck: 2-1                   --\n",
       "│    │    └─Conv2d: 3-1                  4,096\n",
       "│    │    └─BatchNorm2d: 3-2             128\n",
       "│    │    └─Conv2d: 3-3                  36,864\n",
       "│    │    └─BatchNorm2d: 3-4             128\n",
       "│    │    └─Conv2d: 3-5                  16,384\n",
       "│    │    └─BatchNorm2d: 3-6             512\n",
       "│    │    └─ReLU: 3-7                    --\n",
       "│    │    └─Sequential: 3-8              16,896\n",
       "│    └─Bottleneck: 2-2                   --\n",
       "│    │    └─Conv2d: 3-9                  16,384\n",
       "│    │    └─BatchNorm2d: 3-10            128\n",
       "│    │    └─Conv2d: 3-11                 36,864\n",
       "│    │    └─BatchNorm2d: 3-12            128\n",
       "│    │    └─Conv2d: 3-13                 16,384\n",
       "│    │    └─BatchNorm2d: 3-14            512\n",
       "│    │    └─ReLU: 3-15                   --\n",
       "│    └─Bottleneck: 2-3                   --\n",
       "│    │    └─Conv2d: 3-16                 16,384\n",
       "│    │    └─BatchNorm2d: 3-17            128\n",
       "│    │    └─Conv2d: 3-18                 36,864\n",
       "│    │    └─BatchNorm2d: 3-19            128\n",
       "│    │    └─Conv2d: 3-20                 16,384\n",
       "│    │    └─BatchNorm2d: 3-21            512\n",
       "│    │    └─ReLU: 3-22                   --\n",
       "├─Sequential: 1-6                        --\n",
       "│    └─Bottleneck: 2-4                   --\n",
       "│    │    └─Conv2d: 3-23                 32,768\n",
       "│    │    └─BatchNorm2d: 3-24            256\n",
       "│    │    └─Conv2d: 3-25                 147,456\n",
       "│    │    └─BatchNorm2d: 3-26            256\n",
       "│    │    └─Conv2d: 3-27                 65,536\n",
       "│    │    └─BatchNorm2d: 3-28            1,024\n",
       "│    │    └─ReLU: 3-29                   --\n",
       "│    │    └─Sequential: 3-30             132,096\n",
       "│    └─Bottleneck: 2-5                   --\n",
       "│    │    └─Conv2d: 3-31                 65,536\n",
       "│    │    └─BatchNorm2d: 3-32            256\n",
       "│    │    └─Conv2d: 3-33                 147,456\n",
       "│    │    └─BatchNorm2d: 3-34            256\n",
       "│    │    └─Conv2d: 3-35                 65,536\n",
       "│    │    └─BatchNorm2d: 3-36            1,024\n",
       "│    │    └─ReLU: 3-37                   --\n",
       "│    └─Bottleneck: 2-6                   --\n",
       "│    │    └─Conv2d: 3-38                 65,536\n",
       "│    │    └─BatchNorm2d: 3-39            256\n",
       "│    │    └─Conv2d: 3-40                 147,456\n",
       "│    │    └─BatchNorm2d: 3-41            256\n",
       "│    │    └─Conv2d: 3-42                 65,536\n",
       "│    │    └─BatchNorm2d: 3-43            1,024\n",
       "│    │    └─ReLU: 3-44                   --\n",
       "│    └─Bottleneck: 2-7                   --\n",
       "│    │    └─Conv2d: 3-45                 65,536\n",
       "│    │    └─BatchNorm2d: 3-46            256\n",
       "│    │    └─Conv2d: 3-47                 147,456\n",
       "│    │    └─BatchNorm2d: 3-48            256\n",
       "│    │    └─Conv2d: 3-49                 65,536\n",
       "│    │    └─BatchNorm2d: 3-50            1,024\n",
       "│    │    └─ReLU: 3-51                   --\n",
       "├─Sequential: 1-7                        --\n",
       "│    └─Bottleneck: 2-8                   --\n",
       "│    │    └─Conv2d: 3-52                 131,072\n",
       "│    │    └─BatchNorm2d: 3-53            512\n",
       "│    │    └─Conv2d: 3-54                 589,824\n",
       "│    │    └─BatchNorm2d: 3-55            512\n",
       "│    │    └─Conv2d: 3-56                 262,144\n",
       "│    │    └─BatchNorm2d: 3-57            2,048\n",
       "│    │    └─ReLU: 3-58                   --\n",
       "│    │    └─Sequential: 3-59             526,336\n",
       "│    └─Bottleneck: 2-9                   --\n",
       "│    │    └─Conv2d: 3-60                 262,144\n",
       "│    │    └─BatchNorm2d: 3-61            512\n",
       "│    │    └─Conv2d: 3-62                 589,824\n",
       "│    │    └─BatchNorm2d: 3-63            512\n",
       "│    │    └─Conv2d: 3-64                 262,144\n",
       "│    │    └─BatchNorm2d: 3-65            2,048\n",
       "│    │    └─ReLU: 3-66                   --\n",
       "│    └─Bottleneck: 2-10                  --\n",
       "│    │    └─Conv2d: 3-67                 262,144\n",
       "│    │    └─BatchNorm2d: 3-68            512\n",
       "│    │    └─Conv2d: 3-69                 589,824\n",
       "│    │    └─BatchNorm2d: 3-70            512\n",
       "│    │    └─Conv2d: 3-71                 262,144\n",
       "│    │    └─BatchNorm2d: 3-72            2,048\n",
       "│    │    └─ReLU: 3-73                   --\n",
       "│    └─Bottleneck: 2-11                  --\n",
       "│    │    └─Conv2d: 3-74                 262,144\n",
       "│    │    └─BatchNorm2d: 3-75            512\n",
       "│    │    └─Conv2d: 3-76                 589,824\n",
       "│    │    └─BatchNorm2d: 3-77            512\n",
       "│    │    └─Conv2d: 3-78                 262,144\n",
       "│    │    └─BatchNorm2d: 3-79            2,048\n",
       "│    │    └─ReLU: 3-80                   --\n",
       "│    └─Bottleneck: 2-12                  --\n",
       "│    │    └─Conv2d: 3-81                 262,144\n",
       "│    │    └─BatchNorm2d: 3-82            512\n",
       "│    │    └─Conv2d: 3-83                 589,824\n",
       "│    │    └─BatchNorm2d: 3-84            512\n",
       "│    │    └─Conv2d: 3-85                 262,144\n",
       "│    │    └─BatchNorm2d: 3-86            2,048\n",
       "│    │    └─ReLU: 3-87                   --\n",
       "│    └─Bottleneck: 2-13                  --\n",
       "│    │    └─Conv2d: 3-88                 262,144\n",
       "│    │    └─BatchNorm2d: 3-89            512\n",
       "│    │    └─Conv2d: 3-90                 589,824\n",
       "│    │    └─BatchNorm2d: 3-91            512\n",
       "│    │    └─Conv2d: 3-92                 262,144\n",
       "│    │    └─BatchNorm2d: 3-93            2,048\n",
       "│    │    └─ReLU: 3-94                   --\n",
       "├─Sequential: 1-8                        --\n",
       "│    └─Bottleneck: 2-14                  --\n",
       "│    │    └─Conv2d: 3-95                 524,288\n",
       "│    │    └─BatchNorm2d: 3-96            1,024\n",
       "│    │    └─Conv2d: 3-97                 2,359,296\n",
       "│    │    └─BatchNorm2d: 3-98            1,024\n",
       "│    │    └─Conv2d: 3-99                 1,048,576\n",
       "│    │    └─BatchNorm2d: 3-100           4,096\n",
       "│    │    └─ReLU: 3-101                  --\n",
       "│    │    └─Sequential: 3-102            2,101,248\n",
       "│    └─Bottleneck: 2-15                  --\n",
       "│    │    └─Conv2d: 3-103                1,048,576\n",
       "│    │    └─BatchNorm2d: 3-104           1,024\n",
       "│    │    └─Conv2d: 3-105                2,359,296\n",
       "│    │    └─BatchNorm2d: 3-106           1,024\n",
       "│    │    └─Conv2d: 3-107                1,048,576\n",
       "│    │    └─BatchNorm2d: 3-108           4,096\n",
       "│    │    └─ReLU: 3-109                  --\n",
       "│    └─Bottleneck: 2-16                  --\n",
       "│    │    └─Conv2d: 3-110                1,048,576\n",
       "│    │    └─BatchNorm2d: 3-111           1,024\n",
       "│    │    └─Conv2d: 3-112                2,359,296\n",
       "│    │    └─BatchNorm2d: 3-113           1,024\n",
       "│    │    └─Conv2d: 3-114                1,048,576\n",
       "│    │    └─BatchNorm2d: 3-115           4,096\n",
       "│    │    └─ReLU: 3-116                  --\n",
       "├─AdaptiveAvgPool2d: 1-9                 --\n",
       "├─Linear: 1-10                           53,274\n",
       "=================================================================\n",
       "Total params: 23,561,306\n",
       "Trainable params: 23,561,306\n",
       "Non-trainable params: 0\n",
       "================================================================="
      ]
     },
     "execution_count": 26,
     "metadata": {},
     "output_type": "execute_result"
    }
   ],
   "source": [
    "summary(model_res_50) # tabulate the best architecture"
   ]
  },
  {
   "cell_type": "markdown",
   "id": "d49a7cb5-8c84-43ec-af85-78e2fc2b53ca",
   "metadata": {
    "jp-MarkdownHeadingCollapsed": true,
    "tags": []
   },
   "source": [
    "#### Real time recognition"
   ]
  },
  {
   "cell_type": "code",
   "execution_count": null,
   "id": "2cb9bfac-b3ee-4c34-95cd-0003f63632f9",
   "metadata": {},
   "outputs": [],
   "source": [
    "cap = cv2.VideoCapture(0) # Detect signs in real time\n",
    "\n",
    "cap.set(3, 700) # setting the dimensions of the capture\n",
    "cap.set(4, 480)\n",
    "\n",
    "signs = class_names\n",
    "\n",
    "while True:\n",
    "    ret, frame = cap.read()\n",
    "\n",
    "    img = frame[20:250, 20:250] # the image capture dimensions\n",
    "\n",
    "    res = cv2.resize(img, dsize=(28, 28), interpolation = cv2.INTER_CUBIC) # resizing \n",
    "    res = cv2.cvtColor(res, cv2.COLOR_BGR2GRAY) # set the color to black and white\n",
    "\n",
    "    res1 = np.reshape(res, (1, 1, 28, 28)) / 255 # fit the dimensions of the training data\n",
    "    res1 = np.repeat(res1, 3, axis=1)\n",
    "    res1 = torch.from_numpy(res1) # create numpy array\n",
    "    res1 = res1.type(torch.FloatTensor) # create tensor\n",
    "    \n",
    "    model_res_50.eval() # set model to evaluation mode\n",
    "\n",
    "    out = model_res_50(res1) #get probabilities\n",
    "    # Probabilites \n",
    "    probs, label = torch.topk(out, 25)\n",
    "    probs = torch.nn.functional.softmax(probs, 1)  \n",
    "    #print(out)\n",
    "\n",
    "    wht, pred = torch.max(out, 1) # predict label\n",
    "    #print(wht)\n",
    "    #print(pred)\n",
    "\n",
    "    if float(probs[0,0]) < 0.4:\n",
    "        texto_mostrar = 'Sign not detected'\n",
    "    else:\n",
    "        texto_mostrar = signs[int(pred)] + ': ' + '{:.2f}'.format(float(probs[0,0])) + '%'\n",
    "\n",
    "    font = cv2.FONT_HERSHEY_SIMPLEX\n",
    "    frame = cv2.putText(frame, texto_mostrar, (60,285), font, 1, (255,0,0), 2, cv2.LINE_AA)\n",
    "\n",
    "    frame = cv2.rectangle(frame, (20, 20), (250, 250), (0, 255, 0), 3)\n",
    "\n",
    "    cv2.imshow('Cam', frame)\n",
    "\n",
    "    if cv2.waitKey(1) & 0xFF == ord('q'):\n",
    "        break\n",
    "\n",
    "cap.release()\n",
    "cv2.destroyAllWindows()\n"
   ]
  }
 ],
 "metadata": {
  "kernelspec": {
   "display_name": "Python 3 (ipykernel)",
   "language": "python",
   "name": "python3"
  },
  "language_info": {
   "codemirror_mode": {
    "name": "ipython",
    "version": 3
   },
   "file_extension": ".py",
   "mimetype": "text/x-python",
   "name": "python",
   "nbconvert_exporter": "python",
   "pygments_lexer": "ipython3",
   "version": "3.11.5"
  }
 },
 "nbformat": 4,
 "nbformat_minor": 5
}
